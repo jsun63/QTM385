{
 "cells": [
  {
   "cell_type": "markdown",
   "metadata": {},
   "source": [
    "#### QTM 385\n",
    "\n",
    "***\n",
    "\n",
    "## Homework 4\n",
    "\n",
    "Student: 2384882"
   ]
  },
  {
   "cell_type": "markdown",
   "metadata": {},
   "source": [
    "In this homework, we will create an object called Student, that is useful for a professor to store information about a student."
   ]
  },
  {
   "cell_type": "markdown",
   "metadata": {},
   "source": [
    "\n",
    "***\n",
    "\n",
    "### Question 1\n",
    "\n",
    "Create a class Student, that has:\n",
    "\n",
    "0. Id number (5-digits integer, starting with 1)\n",
    "1. First Name (str)\n",
    "2. Last Name (str)\n",
    "3. Grades (list of floats)\n",
    "4. Credits (list of integers)\n",
    "5. Major (str)\n",
    "\n",
    "Provide a constructor for your class and create one fictitious student."
   ]
  },
  {
   "cell_type": "code",
   "execution_count": 20,
   "metadata": {},
   "outputs": [],
   "source": [
    "# Your answer here\n",
    "class Student:\n",
    "    # Constructor\n",
    "    def __init__(self, iD, firstnam, lastnam, gr, cr, maj):\n",
    "        self.ID = iD\n",
    "        self.firstname = firstnam\n",
    "        self.lastname = lastnam\n",
    "        self.grades = gr\n",
    "        self.credits = cr\n",
    "        self.major = maj\n",
    "    def set_firstname(self, firstnam):\n",
    "        self.firstname = firstnam\n",
    "    def set_lastname(self, lastnam):\n",
    "        self.lastname = lastnam\n",
    "    def set_grades(self, gr):\n",
    "        self.grades = gr\n",
    "    def set_credits(self, cr):\n",
    "        self.credits = cr\n",
    "    def set_major(self, maj):\n",
    "        self.major = maj"
   ]
  },
  {
   "cell_type": "code",
   "execution_count": 21,
   "metadata": {},
   "outputs": [],
   "source": [
    "Me = Student(12345, 'Jesse', 'Sun', [1.1, 2.0, 1.0], [1,2,3], 'math')"
   ]
  },
  {
   "cell_type": "code",
   "execution_count": 22,
   "metadata": {},
   "outputs": [
    {
     "name": "stdout",
     "output_type": "stream",
     "text": [
      "[1.1, 2.0, 1.0]\n"
     ]
    }
   ],
   "source": [
    "print(Me.grades)"
   ]
  },
  {
   "cell_type": "markdown",
   "metadata": {},
   "source": [
    "\n",
    "***\n",
    "\n",
    "### Question 2\n",
    "\n",
    "Create a method to nicely display the student when we type `print`. It should display, for example:\n",
    "\n",
    "```\n",
    "Student:\n",
    "    Id: 12345\n",
    "    Name: Mig, Umberto\n",
    "    Major: QSS\n",
    "```\n",
    "\n",
    "Create a method that, when a variable storing a student is typed in the console, displays:\n",
    "\n",
    "```\n",
    "Student(Mig, Umberto; 12345)\n",
    "```\n",
    "\n",
    "Provide some testing with a fictitious result of your choice."
   ]
  },
  {
   "cell_type": "code",
   "execution_count": 23,
   "metadata": {},
   "outputs": [],
   "source": [
    "# Your answer here\n",
    "class Student:\n",
    "    # Constructor\n",
    "    def __init__(self, iD, firstnam, lastnam, gr, cr, maj):\n",
    "        self.ID = iD\n",
    "        self.firstname = firstnam\n",
    "        self.lastname = lastnam\n",
    "        self.grades = gr\n",
    "        self.credits = cr\n",
    "        self.major = maj\n",
    "    def set_firstname(self, firstnam):\n",
    "        self.firstname = firstnam\n",
    "    def set_lastname(self, lastnam):\n",
    "        self.lastname = lastnam\n",
    "    def set_grades(self, gr):\n",
    "        self.grades = gr\n",
    "    def set_credits(self, cr):\n",
    "        self.credits = cr\n",
    "    def set_major(self, maj):\n",
    "        self.major = maj\n",
    "    def __str__(self):\n",
    "        st_info = \"\"\"\n",
    "Student:\n",
    "    ID: {iD}\n",
    "    Name: {name}\n",
    "    Major: {maj}\n",
    "    \"\"\".format(iD = self.ID, name = self.lastname + ', ' + self.firstname , maj = self.major)\n",
    "        return st_info\n",
    "    \n",
    "    def __repr__(self):\n",
    "        return \"Student({nam}; {iD})\".format(nam = self.lastname + ', ' + self.firstname,  iD = self.ID)"
   ]
  },
  {
   "cell_type": "code",
   "execution_count": 24,
   "metadata": {},
   "outputs": [],
   "source": [
    "Me = Student(12345, 'Jesse', 'Sun', [1.1, 2.0, 4.0], [1,2,3], 'math')"
   ]
  },
  {
   "cell_type": "code",
   "execution_count": 25,
   "metadata": {},
   "outputs": [
    {
     "name": "stdout",
     "output_type": "stream",
     "text": [
      "\n",
      "Student:\n",
      "    ID: 12345\n",
      "    Name: Sun, Jesse\n",
      "    Major: math\n",
      "    \n"
     ]
    }
   ],
   "source": [
    "print(Me)"
   ]
  },
  {
   "cell_type": "code",
   "execution_count": 26,
   "metadata": {},
   "outputs": [
    {
     "data": {
      "text/plain": [
       "Student(Sun, Jesse; 12345)"
      ]
     },
     "execution_count": 26,
     "metadata": {},
     "output_type": "execute_result"
    }
   ],
   "source": [
    "Me"
   ]
  },
  {
   "cell_type": "markdown",
   "metadata": {},
   "source": [
    "\n",
    "***\n",
    "\n",
    "### Question 3\n",
    "\n",
    "Implement class methods for:\n",
    "\n",
    "1. Check if the id number is valid (remember: 5 digits, starting with number one)\n",
    "2. Check if the grades list has the same length as the credits list. The idea is that every grade corresponds to a course that gave the student a certain amount of credits.\n",
    "3. Append grade and credit: given a grade, and credits attached to the grade, append both to each respective place.\n",
    "\n",
    "Test your function with a toy student of your choice."
   ]
  },
  {
   "cell_type": "code",
   "execution_count": 27,
   "metadata": {},
   "outputs": [],
   "source": [
    "# Your answer here\n",
    "class Student:\n",
    "    # Constructor\n",
    "    def __init__(self, iD, firstnam, lastnam, gr, cr, maj):\n",
    "        strID = str(iD)\n",
    "        if len(strID) != 5 or strID[0] != '1':\n",
    "            raise ValueError('ID number is incorrect')\n",
    "        if len(gr) != len(cr):\n",
    "            raise ValueError('grades and credits do not align')\n",
    "        self.ID = iD\n",
    "        self.firstname = firstnam\n",
    "        self.lastname = lastnam\n",
    "        self.grades = gr\n",
    "        self.credits = cr\n",
    "        self.major = maj\n",
    "    def set_firstname(self, firstnam):\n",
    "        self.firstname = firstnam\n",
    "    def set_lastname(self, lastnam):\n",
    "        self.lastname = lastnam\n",
    "    def set_grades(self, gr):\n",
    "        self.grades = gr\n",
    "    def set_credits(self, cr):\n",
    "        self.credits = cr\n",
    "    def set_major(self, maj):\n",
    "        self.major = maj\n",
    "    def id_check(self):\n",
    "        strID = str(self.ID)\n",
    "        return len(strID) == 5 and strID[0] == '1'\n",
    "    def length_check(self):\n",
    "        return len(self.grades) == len(self.credits)\n",
    "    def append_grade(self, grade,credit):\n",
    "        self.grades.append(grade)\n",
    "        self.credits.append(credit)\n",
    "    def __str__(self):\n",
    "        st_info = \"\"\"\n",
    "Student:\n",
    "    ID: {iD}\n",
    "    Name: {name}\n",
    "    Major: {maj}\n",
    "    \"\"\".format(iD = self.ID, name = self.lastname + ', ' + self.firstname , maj = self.major)\n",
    "        return st_info\n",
    "    \n",
    "    def __repr__(self):\n",
    "        return \"Student({nam}; {iD})\".format(nam = self.lastname + ', ' + self.firstname,  iD = self.ID)"
   ]
  },
  {
   "cell_type": "code",
   "execution_count": 30,
   "metadata": {},
   "outputs": [
    {
     "name": "stdout",
     "output_type": "stream",
     "text": [
      "\n",
      "Student:\n",
      "    ID: 12345\n",
      "    Name: Sun, Jesse\n",
      "    Major: math\n",
      "    \n"
     ]
    }
   ],
   "source": [
    "#Testing ID check\n",
    "Me = Student(12345, 'Jesse', 'Sun', [1, 2.0,3], [1,2,3], 'math')\n",
    "print(Me)"
   ]
  },
  {
   "cell_type": "code",
   "execution_count": 32,
   "metadata": {},
   "outputs": [
    {
     "ename": "ValueError",
     "evalue": "ID number is incorrect",
     "output_type": "error",
     "traceback": [
      "\u001b[0;31m---------------------------------------------------------------------------\u001b[0m",
      "\u001b[0;31mValueError\u001b[0m                                Traceback (most recent call last)",
      "\u001b[0;32m<ipython-input-32-258762270a75>\u001b[0m in \u001b[0;36m<module>\u001b[0;34m\u001b[0m\n\u001b[0;32m----> 1\u001b[0;31m \u001b[0mMe\u001b[0m \u001b[0;34m=\u001b[0m \u001b[0mStudent\u001b[0m\u001b[0;34m(\u001b[0m\u001b[0;36m2345\u001b[0m\u001b[0;34m,\u001b[0m \u001b[0;34m'Jesse'\u001b[0m\u001b[0;34m,\u001b[0m \u001b[0;34m'Sun'\u001b[0m\u001b[0;34m,\u001b[0m \u001b[0;34m[\u001b[0m\u001b[0;36m1\u001b[0m\u001b[0;34m,\u001b[0m \u001b[0;36m2.0\u001b[0m\u001b[0;34m]\u001b[0m\u001b[0;34m,\u001b[0m \u001b[0;34m[\u001b[0m\u001b[0;36m1\u001b[0m\u001b[0;34m,\u001b[0m\u001b[0;36m2\u001b[0m\u001b[0;34m,\u001b[0m\u001b[0;36m3\u001b[0m\u001b[0;34m]\u001b[0m\u001b[0;34m,\u001b[0m \u001b[0;34m'math'\u001b[0m\u001b[0;34m)\u001b[0m\u001b[0;34m\u001b[0m\u001b[0;34m\u001b[0m\u001b[0m\n\u001b[0m",
      "\u001b[0;32m<ipython-input-27-a5519096ab7d>\u001b[0m in \u001b[0;36m__init__\u001b[0;34m(self, iD, firstnam, lastnam, gr, cr, maj)\u001b[0m\n\u001b[1;32m      5\u001b[0m         \u001b[0mstrID\u001b[0m \u001b[0;34m=\u001b[0m \u001b[0mstr\u001b[0m\u001b[0;34m(\u001b[0m\u001b[0miD\u001b[0m\u001b[0;34m)\u001b[0m\u001b[0;34m\u001b[0m\u001b[0;34m\u001b[0m\u001b[0m\n\u001b[1;32m      6\u001b[0m         \u001b[0;32mif\u001b[0m \u001b[0mlen\u001b[0m\u001b[0;34m(\u001b[0m\u001b[0mstrID\u001b[0m\u001b[0;34m)\u001b[0m \u001b[0;34m!=\u001b[0m \u001b[0;36m5\u001b[0m \u001b[0;32mor\u001b[0m \u001b[0mstrID\u001b[0m\u001b[0;34m[\u001b[0m\u001b[0;36m0\u001b[0m\u001b[0;34m]\u001b[0m \u001b[0;34m!=\u001b[0m \u001b[0;34m'1'\u001b[0m\u001b[0;34m:\u001b[0m\u001b[0;34m\u001b[0m\u001b[0;34m\u001b[0m\u001b[0m\n\u001b[0;32m----> 7\u001b[0;31m             \u001b[0;32mraise\u001b[0m \u001b[0mValueError\u001b[0m\u001b[0;34m(\u001b[0m\u001b[0;34m'ID number is incorrect'\u001b[0m\u001b[0;34m)\u001b[0m\u001b[0;34m\u001b[0m\u001b[0;34m\u001b[0m\u001b[0m\n\u001b[0m\u001b[1;32m      8\u001b[0m         \u001b[0;32mif\u001b[0m \u001b[0mlen\u001b[0m\u001b[0;34m(\u001b[0m\u001b[0mgr\u001b[0m\u001b[0;34m)\u001b[0m \u001b[0;34m!=\u001b[0m \u001b[0mlen\u001b[0m\u001b[0;34m(\u001b[0m\u001b[0mcr\u001b[0m\u001b[0;34m)\u001b[0m\u001b[0;34m:\u001b[0m\u001b[0;34m\u001b[0m\u001b[0;34m\u001b[0m\u001b[0m\n\u001b[1;32m      9\u001b[0m             \u001b[0;32mraise\u001b[0m \u001b[0mValueError\u001b[0m\u001b[0;34m(\u001b[0m\u001b[0;34m'grades and credits do not align'\u001b[0m\u001b[0;34m)\u001b[0m\u001b[0;34m\u001b[0m\u001b[0;34m\u001b[0m\u001b[0m\n",
      "\u001b[0;31mValueError\u001b[0m: ID number is incorrect"
     ]
    }
   ],
   "source": [
    "Me = Student(2345, 'Jesse', 'Sun', [1, 2.0], [1,2,3], 'math')"
   ]
  },
  {
   "cell_type": "code",
   "execution_count": 36,
   "metadata": {},
   "outputs": [
    {
     "name": "stdout",
     "output_type": "stream",
     "text": [
      "\n",
      "Student:\n",
      "    ID: 12345\n",
      "    Name: Sun, Jesse\n",
      "    Major: math\n",
      "    \n"
     ]
    }
   ],
   "source": [
    "# Testing length of grades = length of credits\n",
    "Me = Student(12345, 'Jesse', 'Sun', [1, 2.0, 3.0], [1,2,3], 'math')\n",
    "print(Me)"
   ]
  },
  {
   "cell_type": "code",
   "execution_count": 37,
   "metadata": {},
   "outputs": [
    {
     "ename": "ValueError",
     "evalue": "grades and credits do not align",
     "output_type": "error",
     "traceback": [
      "\u001b[0;31m---------------------------------------------------------------------------\u001b[0m",
      "\u001b[0;31mValueError\u001b[0m                                Traceback (most recent call last)",
      "\u001b[0;32m<ipython-input-37-f9c34c3294f1>\u001b[0m in \u001b[0;36m<module>\u001b[0;34m\u001b[0m\n\u001b[0;32m----> 1\u001b[0;31m \u001b[0mMe\u001b[0m \u001b[0;34m=\u001b[0m \u001b[0mStudent\u001b[0m\u001b[0;34m(\u001b[0m\u001b[0;36m12345\u001b[0m\u001b[0;34m,\u001b[0m \u001b[0;34m'Jesse'\u001b[0m\u001b[0;34m,\u001b[0m \u001b[0;34m'Sun'\u001b[0m\u001b[0;34m,\u001b[0m \u001b[0;34m[\u001b[0m\u001b[0;36m1\u001b[0m\u001b[0;34m,\u001b[0m \u001b[0;36m2.0\u001b[0m\u001b[0;34m,\u001b[0m \u001b[0;36m4\u001b[0m\u001b[0;34m,\u001b[0m \u001b[0;36m4\u001b[0m\u001b[0;34m]\u001b[0m\u001b[0;34m,\u001b[0m \u001b[0;34m[\u001b[0m\u001b[0;36m1\u001b[0m\u001b[0;34m,\u001b[0m\u001b[0;36m2\u001b[0m\u001b[0;34m,\u001b[0m\u001b[0;36m3\u001b[0m\u001b[0;34m]\u001b[0m\u001b[0;34m,\u001b[0m \u001b[0;34m'math'\u001b[0m\u001b[0;34m)\u001b[0m\u001b[0;34m\u001b[0m\u001b[0;34m\u001b[0m\u001b[0m\n\u001b[0m",
      "\u001b[0;32m<ipython-input-27-a5519096ab7d>\u001b[0m in \u001b[0;36m__init__\u001b[0;34m(self, iD, firstnam, lastnam, gr, cr, maj)\u001b[0m\n\u001b[1;32m      7\u001b[0m             \u001b[0;32mraise\u001b[0m \u001b[0mValueError\u001b[0m\u001b[0;34m(\u001b[0m\u001b[0;34m'ID number is incorrect'\u001b[0m\u001b[0;34m)\u001b[0m\u001b[0;34m\u001b[0m\u001b[0;34m\u001b[0m\u001b[0m\n\u001b[1;32m      8\u001b[0m         \u001b[0;32mif\u001b[0m \u001b[0mlen\u001b[0m\u001b[0;34m(\u001b[0m\u001b[0mgr\u001b[0m\u001b[0;34m)\u001b[0m \u001b[0;34m!=\u001b[0m \u001b[0mlen\u001b[0m\u001b[0;34m(\u001b[0m\u001b[0mcr\u001b[0m\u001b[0;34m)\u001b[0m\u001b[0;34m:\u001b[0m\u001b[0;34m\u001b[0m\u001b[0;34m\u001b[0m\u001b[0m\n\u001b[0;32m----> 9\u001b[0;31m             \u001b[0;32mraise\u001b[0m \u001b[0mValueError\u001b[0m\u001b[0;34m(\u001b[0m\u001b[0;34m'grades and credits do not align'\u001b[0m\u001b[0;34m)\u001b[0m\u001b[0;34m\u001b[0m\u001b[0;34m\u001b[0m\u001b[0m\n\u001b[0m\u001b[1;32m     10\u001b[0m         \u001b[0mself\u001b[0m\u001b[0;34m.\u001b[0m\u001b[0mID\u001b[0m \u001b[0;34m=\u001b[0m \u001b[0miD\u001b[0m\u001b[0;34m\u001b[0m\u001b[0;34m\u001b[0m\u001b[0m\n\u001b[1;32m     11\u001b[0m         \u001b[0mself\u001b[0m\u001b[0;34m.\u001b[0m\u001b[0mfirstname\u001b[0m \u001b[0;34m=\u001b[0m \u001b[0mfirstnam\u001b[0m\u001b[0;34m\u001b[0m\u001b[0;34m\u001b[0m\u001b[0m\n",
      "\u001b[0;31mValueError\u001b[0m: grades and credits do not align"
     ]
    }
   ],
   "source": [
    "Me = Student(12345, 'Jesse', 'Sun', [1, 2.0, 4, 4], [1,2,3], 'math')"
   ]
  },
  {
   "cell_type": "markdown",
   "metadata": {},
   "source": [
    "\n",
    "***\n",
    "\n",
    "### Question 4\n",
    "\n",
    "Create a module in the class Student that computes the unweighted average of the student's grades."
   ]
  },
  {
   "cell_type": "code",
   "execution_count": 38,
   "metadata": {},
   "outputs": [],
   "source": [
    "# Your answer here\n",
    "class Student:\n",
    "    # Constructor\n",
    "    def __init__(self, iD, firstnam, lastnam, gr, cr, maj):\n",
    "        strID = str(iD)\n",
    "        if len(strID) != 5 or strID[0] != '1':\n",
    "            raise ValueError('ID number is incorrect')\n",
    "        if len(gr) != len(cr):\n",
    "            raise ValueError('grades and credits do not align')\n",
    "        self.ID = iD\n",
    "        self.firstname = firstnam\n",
    "        self.lastname = lastnam\n",
    "        self.grades = gr\n",
    "        self.credits = cr\n",
    "        self.major = maj\n",
    "    def set_firstname(self, firstnam):\n",
    "        self.firstname = firstnam\n",
    "    def set_lastname(self, lastnam):\n",
    "        self.lastname = lastnam\n",
    "    def set_grades(self, gr):\n",
    "        self.grades = gr\n",
    "    def set_credits(self, cr):\n",
    "        self.credits = cr\n",
    "    def set_major(self, maj):\n",
    "        self.major = maj\n",
    "    def id_check(self):\n",
    "        strID = str(self.ID)\n",
    "        return len(strID) == 5 and strID[0] == '1'\n",
    "    def length_check(self):\n",
    "        return len(self.grades) == len(self.credits)\n",
    "    def append_grade(self, grade,credit):\n",
    "        self.grades.append(grade)\n",
    "        self.credits.append(credit)\n",
    "    def __str__(self):\n",
    "        st_info = \"\"\"\n",
    "Student:\n",
    "    ID: {iD}\n",
    "    Name: {name}\n",
    "    Major: {maj}\n",
    "    \"\"\".format(iD = self.ID, name = self.lastname + ', ' + self.firstname , maj = self.major)\n",
    "        return st_info\n",
    "    \n",
    "    def __repr__(self):\n",
    "        return \"Student({nam}; {iD})\".format(nam = self.lastname + ', ' + self.firstname,  iD = self.ID)\n",
    "    def unweighted_average(self):\n",
    "        total = 0\n",
    "        for grade in self.grades:\n",
    "            total = total + grade\n",
    "        return total / len(self.grades)"
   ]
  },
  {
   "cell_type": "code",
   "execution_count": 39,
   "metadata": {},
   "outputs": [],
   "source": [
    "Me = Student(12345, 'Jesse', 'Sun', [1, 2.0,3], [1,2,3], 'math')"
   ]
  },
  {
   "cell_type": "code",
   "execution_count": 40,
   "metadata": {},
   "outputs": [
    {
     "data": {
      "text/plain": [
       "2.0"
      ]
     },
     "execution_count": 40,
     "metadata": {},
     "output_type": "execute_result"
    }
   ],
   "source": [
    "Me.unweighted_average()"
   ]
  },
  {
   "cell_type": "markdown",
   "metadata": {},
   "source": [
    "\n",
    "***\n",
    "\n",
    "### Question 5\n",
    "\n",
    "Create a module in the class Student that computes the weighted average of the student's grades, weighted by the credits."
   ]
  },
  {
   "cell_type": "code",
   "execution_count": 41,
   "metadata": {},
   "outputs": [],
   "source": [
    "# Your answer here\n",
    "class Student:\n",
    "    # Constructor\n",
    "    def __init__(self, iD, firstnam, lastnam, gr, cr, maj):\n",
    "        strID = str(iD)\n",
    "        if len(strID) != 5 or strID[0] != '1':\n",
    "            raise ValueError('ID number is incorrect')\n",
    "        if len(gr) != len(cr):\n",
    "            raise ValueError('grades and credits do not align')\n",
    "        self.ID = iD\n",
    "        self.firstname = firstnam\n",
    "        self.lastname = lastnam\n",
    "        self.grades = gr\n",
    "        self.credits = cr\n",
    "        self.major = maj\n",
    "    def set_firstname(self, firstnam):\n",
    "        self.firstname = firstnam\n",
    "    def set_lastname(self, lastnam):\n",
    "        self.lastname = lastnam\n",
    "    def set_grades(self, gr):\n",
    "        self.grades = gr\n",
    "    def set_credits(self, cr):\n",
    "        self.credits = cr\n",
    "    def set_major(self, maj):\n",
    "        self.major = maj\n",
    "    def id_check(self):\n",
    "        strID = str(self.ID)\n",
    "        return len(strID) == 5 and strID[0] == '1'\n",
    "    def length_check(self):\n",
    "        return len(self.grades) == len(self.credits)\n",
    "    def append_grade(self, grade,credit):\n",
    "        self.grades.append(grade)\n",
    "        self.credits.append(credit)\n",
    "    def __str__(self):\n",
    "        st_info = \"\"\"\n",
    "Student:\n",
    "    ID: {iD}\n",
    "    Name: {name}\n",
    "    Major: {maj}\n",
    "    \"\"\".format(iD = self.ID, name = self.lastname + ', ' + self.firstname , maj = self.major)\n",
    "        return st_info\n",
    "    \n",
    "    def __repr__(self):\n",
    "        return \"Student({nam}; {iD})\".format(nam = self.lastname + ', ' + self.firstname,  iD = self.ID)\n",
    "    def unweighted_average(self):\n",
    "        total = 0\n",
    "        for grade in self.grades:\n",
    "            total = total + grade\n",
    "        return total / len(self.grades)\n",
    "    def weighted_average(self):\n",
    "        total = 0\n",
    "        for i in range(len(self.grades)):\n",
    "            total = total + self.grades[i]*self.credits[i]\n",
    "        creditstotal = 0\n",
    "        for credits in self.credits:\n",
    "            creditstotal = creditstotal + credits\n",
    "        return total / creditstotal"
   ]
  },
  {
   "cell_type": "code",
   "execution_count": 42,
   "metadata": {},
   "outputs": [],
   "source": [
    "Me = Student(12345, 'Jesse', 'Sun', [1, 2.0], [2,4], 'math')"
   ]
  },
  {
   "cell_type": "code",
   "execution_count": 43,
   "metadata": {},
   "outputs": [
    {
     "data": {
      "text/plain": [
       "1.6666666666666667"
      ]
     },
     "execution_count": 43,
     "metadata": {},
     "output_type": "execute_result"
    }
   ],
   "source": [
    "Me.weighted_average()"
   ]
  },
  {
   "cell_type": "markdown",
   "metadata": {},
   "source": [
    "**That's all, folks!**"
   ]
  }
 ],
 "metadata": {
  "kernelspec": {
   "display_name": "Python 3",
   "language": "python",
   "name": "python3"
  },
  "language_info": {
   "codemirror_mode": {
    "name": "ipython",
    "version": 3
   },
   "file_extension": ".py",
   "mimetype": "text/x-python",
   "name": "python",
   "nbconvert_exporter": "python",
   "pygments_lexer": "ipython3",
   "version": "3.8.8"
  }
 },
 "nbformat": 4,
 "nbformat_minor": 4
}
